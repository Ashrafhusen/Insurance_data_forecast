{
 "cells": [
  {
   "cell_type": "code",
   "execution_count": 1,
   "id": "29aa10ab-8927-4a14-98c3-740f39970ed0",
   "metadata": {},
   "outputs": [],
   "source": [
    "import pandas as pd"
   ]
  },
  {
   "cell_type": "code",
   "execution_count": 2,
   "id": "1b7ec7f4-1dd8-487f-b5e8-f6c80b0fb2e5",
   "metadata": {},
   "outputs": [],
   "source": [
    "column_names = [f'V{i}' for i in range(1, 87)]"
   ]
  },
  {
   "cell_type": "code",
   "execution_count": 4,
   "id": "25e52865-e602-4823-b8f1-9fb525c0650a",
   "metadata": {},
   "outputs": [],
   "source": [
    "df = pd.read_csv('../data/raw/ticdata2000.txt' , delimiter= '\\t' , names = column_names)"
   ]
  },
  {
   "cell_type": "code",
   "execution_count": 5,
   "id": "174bc5fd-a6d9-408c-a1cf-38bed7becb26",
   "metadata": {},
   "outputs": [
    {
     "name": "stdout",
     "output_type": "stream",
     "text": [
      "(5822, 86)\n"
     ]
    }
   ],
   "source": [
    "print(df.shape)"
   ]
  },
  {
   "cell_type": "code",
   "execution_count": 6,
   "id": "659fda92-fbfc-452b-b670-abea4ad6c2f6",
   "metadata": {},
   "outputs": [
    {
     "name": "stdout",
     "output_type": "stream",
     "text": [
      "   V1  V2  V3  V4  V5  V6  V7  V8  V9  V10  ...  V77  V78  V79  V80  V81  V82  \\\n",
      "0  33   1   3   2   8   0   5   1   3    7  ...    0    0    0    1    0    0   \n",
      "1  37   1   2   2   8   1   4   1   4    6  ...    0    0    0    1    0    0   \n",
      "2  37   1   2   2   8   0   4   2   4    3  ...    0    0    0    1    0    0   \n",
      "3   9   1   3   3   3   2   3   2   4    5  ...    0    0    0    1    0    0   \n",
      "4  40   1   4   2  10   1   4   1   4    7  ...    0    0    0    1    0    0   \n",
      "\n",
      "   V83  V84  V85  V86  \n",
      "0    0    0    0    0  \n",
      "1    0    0    0    0  \n",
      "2    0    0    0    0  \n",
      "3    0    0    0    0  \n",
      "4    0    0    0    0  \n",
      "\n",
      "[5 rows x 86 columns]\n"
     ]
    }
   ],
   "source": [
    "print(df.head())"
   ]
  },
  {
   "cell_type": "code",
   "execution_count": 7,
   "id": "1fd07459-cfec-4e0c-8b8d-8e0ee1dc94fb",
   "metadata": {},
   "outputs": [
    {
     "name": "stdout",
     "output_type": "stream",
     "text": [
      "                V1           V2           V3           V4           V5  \\\n",
      "count  5822.000000  5822.000000  5822.000000  5822.000000  5822.000000   \n",
      "mean     24.253349     1.110615     2.678805     2.991240     5.773617   \n",
      "std      12.846706     0.405842     0.789835     0.814589     2.856760   \n",
      "min       1.000000     1.000000     1.000000     1.000000     1.000000   \n",
      "25%      10.000000     1.000000     2.000000     2.000000     3.000000   \n",
      "50%      30.000000     1.000000     3.000000     3.000000     7.000000   \n",
      "75%      35.000000     1.000000     3.000000     3.000000     8.000000   \n",
      "max      41.000000    10.000000     5.000000     6.000000    10.000000   \n",
      "\n",
      "                V6           V7           V8           V9          V10  ...  \\\n",
      "count  5822.000000  5822.000000  5822.000000  5822.000000  5822.000000  ...   \n",
      "mean      0.696496     4.626932     1.069907     3.258502     6.183442  ...   \n",
      "std       1.003234     1.715843     1.017503     1.597647     1.909482  ...   \n",
      "min       0.000000     0.000000     0.000000     0.000000     0.000000  ...   \n",
      "25%       0.000000     4.000000     0.000000     2.000000     5.000000  ...   \n",
      "50%       0.000000     5.000000     1.000000     3.000000     6.000000  ...   \n",
      "75%       1.000000     6.000000     2.000000     4.000000     7.000000  ...   \n",
      "max       9.000000     9.000000     5.000000     9.000000     9.000000  ...   \n",
      "\n",
      "               V77          V78          V79          V80          V81  \\\n",
      "count  5822.000000  5822.000000  5822.000000  5822.000000  5822.000000   \n",
      "mean      0.005325     0.006527     0.004638     0.570079     0.000515   \n",
      "std       0.072782     0.080532     0.077403     0.562058     0.022696   \n",
      "min       0.000000     0.000000     0.000000     0.000000     0.000000   \n",
      "25%       0.000000     0.000000     0.000000     0.000000     0.000000   \n",
      "50%       0.000000     0.000000     0.000000     1.000000     0.000000   \n",
      "75%       0.000000     0.000000     0.000000     1.000000     0.000000   \n",
      "max       1.000000     1.000000     2.000000     7.000000     1.000000   \n",
      "\n",
      "               V82          V83          V84          V85          V86  \n",
      "count  5822.000000  5822.000000  5822.000000  5822.000000  5822.000000  \n",
      "mean      0.006012     0.031776     0.007901     0.014256     0.059773  \n",
      "std       0.081632     0.210986     0.090463     0.119996     0.237087  \n",
      "min       0.000000     0.000000     0.000000     0.000000     0.000000  \n",
      "25%       0.000000     0.000000     0.000000     0.000000     0.000000  \n",
      "50%       0.000000     0.000000     0.000000     0.000000     0.000000  \n",
      "75%       0.000000     0.000000     0.000000     0.000000     0.000000  \n",
      "max       2.000000     3.000000     2.000000     2.000000     1.000000  \n",
      "\n",
      "[8 rows x 86 columns]\n"
     ]
    }
   ],
   "source": [
    "print(df.describe())"
   ]
  },
  {
   "cell_type": "code",
   "execution_count": 8,
   "id": "2c7749c5-cc33-45e4-9861-c34ead977779",
   "metadata": {},
   "outputs": [
    {
     "name": "stdout",
     "output_type": "stream",
     "text": [
      "V1     0\n",
      "V2     0\n",
      "V3     0\n",
      "V4     0\n",
      "V5     0\n",
      "      ..\n",
      "V82    0\n",
      "V83    0\n",
      "V84    0\n",
      "V85    0\n",
      "V86    0\n",
      "Length: 86, dtype: int64\n"
     ]
    }
   ],
   "source": [
    "print(df.isnull().sum())"
   ]
  },
  {
   "cell_type": "code",
   "execution_count": 11,
   "id": "7a16e354-cae8-4b6f-a956-da9163c91286",
   "metadata": {},
   "outputs": [],
   "source": [
    "df.to_csv('../data/processed/insurance_cleaned.csv' , index = False)"
   ]
  },
  {
   "cell_type": "code",
   "execution_count": null,
   "id": "d66b711d-b36c-42e4-977d-3ef4fbb97731",
   "metadata": {},
   "outputs": [],
   "source": []
  }
 ],
 "metadata": {
  "kernelspec": {
   "display_name": "Python 3 (ipykernel)",
   "language": "python",
   "name": "python3"
  },
  "language_info": {
   "codemirror_mode": {
    "name": "ipython",
    "version": 3
   },
   "file_extension": ".py",
   "mimetype": "text/x-python",
   "name": "python",
   "nbconvert_exporter": "python",
   "pygments_lexer": "ipython3",
   "version": "3.11.7"
  }
 },
 "nbformat": 4,
 "nbformat_minor": 5
}
